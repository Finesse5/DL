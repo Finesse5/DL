{
 "cells": [
  {
   "cell_type": "code",
   "execution_count": 1,
   "id": "154e3bb1",
   "metadata": {},
   "outputs": [],
   "source": [
    "# Импортируем нужные библиотеки\n",
    "import pandas as pd\n",
    "from sklearn.preprocessing import MinMaxScaler\n",
    "from sklearn.model_selection import train_test_split\n",
    "from sklearn.neighbors import KNeighborsClassifier\n",
    "from sklearn.model_selection import RandomizedSearchCV\n",
    "from sklearn import metrics\n",
    "from sklearn.impute import SimpleImputer\n",
    "\n",
    "# Загрузка датасета\n",
    "file_path = 'Arrest_Data_from_2010.csv'  \n",
    "\n",
    "# Загружаем датасет\n",
    "dataset = pd.read_csv(file_path)                                 \n"
   ]
  },
  {
   "cell_type": "markdown",
   "id": "03fa466c",
   "metadata": {},
   "source": [
    "#### Загружаем датасет, содержащий информацию о данных арестов. Целевой признак для классификации — это код типа ареста (`Arrest Type Code`)."
   ]
  },
  {
   "cell_type": "markdown",
   "id": "7ff16d2a",
   "metadata": {},
   "source": [
    "#### Подготовка данных\n",
    "\n",
    "Выделяем целевой признак и признаки для модели. Удаляем текстовые данные и заполняем пропущенные значения."
   ]
  },
  {
   "cell_type": "code",
   "execution_count": 2,
   "id": "9a16eac4",
   "metadata": {},
   "outputs": [],
   "source": [
    "# Используем только 5% данных из датасета\n",
    "dataset_sampled = dataset.sample(frac=0.05, random_state=42)"
   ]
  },
  {
   "cell_type": "code",
   "execution_count": 3,
   "id": "6fb6d778",
   "metadata": {},
   "outputs": [],
   "source": [
    "# Предобработка данных\n",
    "y = dataset_sampled['Arrest Type Code']\n",
    "# Предположим, что 'M' — целевой класс, а все остальные — в \"другие\"\n",
    "y = y.apply(lambda x: 1 if x == 'M' else 0)\n",
    "\n",
    "X = dataset_sampled.drop('Arrest Type Code', axis=1)\n",
    "\n",
    "# Удаляем столбцы с текстовыми данными\n",
    "X = X.select_dtypes(exclude=['object'])\n",
    "\n",
    "# Заполнение пропущенных значений\n",
    "imputer = SimpleImputer(strategy='mean')\n",
    "X_imputed = imputer.fit_transform(X)\n"
   ]
  },
  {
   "cell_type": "markdown",
   "id": "6e508852",
   "metadata": {},
   "source": [
    "#### Нормализация данных\n",
    "\n",
    "Нормализуем данные для улучшения работы модели."
   ]
  },
  {
   "cell_type": "code",
   "execution_count": 4,
   "id": "8c31d29d",
   "metadata": {},
   "outputs": [],
   "source": [
    "# Нормализация данных\n",
    "scaler = MinMaxScaler()\n",
    "X_scaled = scaler.fit_transform(X_imputed)\n"
   ]
  },
  {
   "cell_type": "markdown",
   "id": "a25711ca",
   "metadata": {},
   "source": [
    "#### Разделение данных на тренировочную и тестовую выборки\n",
    "\n",
    "Разделяем данные на тренировочную и тестовую выборки."
   ]
  },
  {
   "cell_type": "code",
   "execution_count": 5,
   "id": "5caf5d9a",
   "metadata": {},
   "outputs": [],
   "source": [
    "# Разделение на тренировочную и тестовую выборки\n",
    "X_train, X_test, y_train, y_test = train_test_split(X_scaled, y, test_size=0.2, random_state=42)\n"
   ]
  },
  {
   "cell_type": "markdown",
   "id": "2c34c8c8",
   "metadata": {},
   "source": [
    "#### Поиск лучших гиперпараметров\n",
    "\n",
    "Используем RandomizedSearchCV для нахождения лучших гиперпараметров модели K-ближайших соседей."
   ]
  },
  {
   "cell_type": "code",
   "execution_count": 6,
   "id": "9bfcb25f",
   "metadata": {},
   "outputs": [
    {
     "name": "stdout",
     "output_type": "stream",
     "text": [
      "Лучшие параметры: {'n_neighbors': 5, 'metric': 'manhattan'}\n"
     ]
    }
   ],
   "source": [
    "# Поиск гиперпараметров с помощью RandomizedSearchCV\n",
    "kn_classifier = KNeighborsClassifier()\n",
    "kn_params = {\n",
    "    'n_neighbors': range(1, 10),  # Уменьшенный диапазон\n",
    "    'metric': ['euclidean', 'manhattan']  # Меньше метрик\n",
    "}\n",
    "\n",
    "kn_grid = RandomizedSearchCV(kn_classifier, kn_params, n_iter=10, cv=3, n_jobs=-1)\n",
    "kn_grid.fit(X_train, y_train)\n",
    "\n",
    "# Лучшие параметры модели\n",
    "kn_best_params = kn_grid.best_params_\n",
    "print('Лучшие параметры:', kn_best_params)"
   ]
  },
  {
   "cell_type": "markdown",
   "id": "a87d6341",
   "metadata": {},
   "source": [
    "#### Обучение и оценка модели\n",
    "\n",
    "Обучаем модель с найденными оптимальными гиперпараметрами и оцениваем её производительность."
   ]
  },
  {
   "cell_type": "code",
   "execution_count": 7,
   "id": "a02afb6a",
   "metadata": {},
   "outputs": [
    {
     "name": "stdout",
     "output_type": "stream",
     "text": [
      "Оценка модели:\n",
      "               precision    recall  f1-score   support\n",
      "\n",
      "           0    0.73620   0.71959   0.72780      5228\n",
      "           1    0.81901   0.83112   0.82502      7982\n",
      "\n",
      "    accuracy                        0.78698     13210\n",
      "   macro avg    0.77761   0.77535   0.77641     13210\n",
      "weighted avg    0.78624   0.78698   0.78655     13210\n",
      "\n"
     ]
    }
   ],
   "source": [
    "# Обучение модели с лучшими параметрами\n",
    "kn_best_model = KNeighborsClassifier(**kn_best_params)\n",
    "kn_best_model.fit(X_train, y_train)\n",
    "\n",
    "# Прогнозирование\n",
    "kn_predicted = kn_best_model.predict(X_test)\n",
    "\n",
    "# Оценка модели\n",
    "print('Оценка модели:\\n', metrics.classification_report(y_test, kn_predicted, digits=5))"
   ]
  }
 ],
 "metadata": {
  "kernelspec": {
   "display_name": "Python 3 (ipykernel)",
   "language": "python",
   "name": "python3"
  },
  "language_info": {
   "codemirror_mode": {
    "name": "ipython",
    "version": 3
   },
   "file_extension": ".py",
   "mimetype": "text/x-python",
   "name": "python",
   "nbconvert_exporter": "python",
   "pygments_lexer": "ipython3",
   "version": "3.11.5"
  }
 },
 "nbformat": 4,
 "nbformat_minor": 5
}
